{
 "cells": [
  {
   "cell_type": "code",
   "execution_count": 1,
   "id": "251ee33a",
   "metadata": {},
   "outputs": [],
   "source": [
    "import numpy as np\n",
    "import pandas as pd\n",
    "import torch\n",
    "from torch import nn\n",
    "from torch.utils.data import DataLoader\n",
    "import matplotlib.pyplot as plt"
   ]
  },
  {
   "cell_type": "code",
   "execution_count": 2,
   "id": "d49aa762",
   "metadata": {},
   "outputs": [
    {
     "data": {
      "text/html": [
       "<div>\n",
       "<style scoped>\n",
       "    .dataframe tbody tr th:only-of-type {\n",
       "        vertical-align: middle;\n",
       "    }\n",
       "\n",
       "    .dataframe tbody tr th {\n",
       "        vertical-align: top;\n",
       "    }\n",
       "\n",
       "    .dataframe thead th {\n",
       "        text-align: right;\n",
       "    }\n",
       "</style>\n",
       "<table border=\"1\" class=\"dataframe\">\n",
       "  <thead>\n",
       "    <tr style=\"text-align: right;\">\n",
       "      <th></th>\n",
       "      <th>age</th>\n",
       "      <th>sex</th>\n",
       "      <th>sample.yr</th>\n",
       "      <th>kappa</th>\n",
       "      <th>lambda</th>\n",
       "      <th>flc.grp</th>\n",
       "      <th>creatinine</th>\n",
       "      <th>mgus</th>\n",
       "      <th>futime</th>\n",
       "      <th>death</th>\n",
       "      <th>chapter</th>\n",
       "    </tr>\n",
       "  </thead>\n",
       "  <tbody>\n",
       "    <tr>\n",
       "      <th>0</th>\n",
       "      <td>97.0</td>\n",
       "      <td>F</td>\n",
       "      <td>1997</td>\n",
       "      <td>5.700</td>\n",
       "      <td>4.860</td>\n",
       "      <td>10</td>\n",
       "      <td>1.7</td>\n",
       "      <td>no</td>\n",
       "      <td>85.0</td>\n",
       "      <td>dead</td>\n",
       "      <td>Circulatory</td>\n",
       "    </tr>\n",
       "    <tr>\n",
       "      <th>1</th>\n",
       "      <td>92.0</td>\n",
       "      <td>F</td>\n",
       "      <td>2000</td>\n",
       "      <td>0.870</td>\n",
       "      <td>0.683</td>\n",
       "      <td>1</td>\n",
       "      <td>0.9</td>\n",
       "      <td>no</td>\n",
       "      <td>1281.0</td>\n",
       "      <td>dead</td>\n",
       "      <td>Neoplasms</td>\n",
       "    </tr>\n",
       "    <tr>\n",
       "      <th>2</th>\n",
       "      <td>94.0</td>\n",
       "      <td>F</td>\n",
       "      <td>1997</td>\n",
       "      <td>4.360</td>\n",
       "      <td>3.850</td>\n",
       "      <td>10</td>\n",
       "      <td>1.4</td>\n",
       "      <td>no</td>\n",
       "      <td>69.0</td>\n",
       "      <td>dead</td>\n",
       "      <td>Circulatory</td>\n",
       "    </tr>\n",
       "    <tr>\n",
       "      <th>3</th>\n",
       "      <td>92.0</td>\n",
       "      <td>F</td>\n",
       "      <td>1996</td>\n",
       "      <td>2.420</td>\n",
       "      <td>2.220</td>\n",
       "      <td>9</td>\n",
       "      <td>1.0</td>\n",
       "      <td>no</td>\n",
       "      <td>115.0</td>\n",
       "      <td>dead</td>\n",
       "      <td>Circulatory</td>\n",
       "    </tr>\n",
       "    <tr>\n",
       "      <th>4</th>\n",
       "      <td>93.0</td>\n",
       "      <td>F</td>\n",
       "      <td>1996</td>\n",
       "      <td>1.320</td>\n",
       "      <td>1.690</td>\n",
       "      <td>6</td>\n",
       "      <td>1.1</td>\n",
       "      <td>no</td>\n",
       "      <td>1039.0</td>\n",
       "      <td>dead</td>\n",
       "      <td>Circulatory</td>\n",
       "    </tr>\n",
       "    <tr>\n",
       "      <th>...</th>\n",
       "      <td>...</td>\n",
       "      <td>...</td>\n",
       "      <td>...</td>\n",
       "      <td>...</td>\n",
       "      <td>...</td>\n",
       "      <td>...</td>\n",
       "      <td>...</td>\n",
       "      <td>...</td>\n",
       "      <td>...</td>\n",
       "      <td>...</td>\n",
       "      <td>...</td>\n",
       "    </tr>\n",
       "    <tr>\n",
       "      <th>7869</th>\n",
       "      <td>52.0</td>\n",
       "      <td>F</td>\n",
       "      <td>1995</td>\n",
       "      <td>1.210</td>\n",
       "      <td>1.610</td>\n",
       "      <td>6</td>\n",
       "      <td>1.0</td>\n",
       "      <td>no</td>\n",
       "      <td>4997.0</td>\n",
       "      <td>alive</td>\n",
       "      <td>?</td>\n",
       "    </tr>\n",
       "    <tr>\n",
       "      <th>7870</th>\n",
       "      <td>52.0</td>\n",
       "      <td>F</td>\n",
       "      <td>1999</td>\n",
       "      <td>0.858</td>\n",
       "      <td>0.581</td>\n",
       "      <td>1</td>\n",
       "      <td>0.8</td>\n",
       "      <td>no</td>\n",
       "      <td>3652.0</td>\n",
       "      <td>alive</td>\n",
       "      <td>?</td>\n",
       "    </tr>\n",
       "    <tr>\n",
       "      <th>7871</th>\n",
       "      <td>54.0</td>\n",
       "      <td>F</td>\n",
       "      <td>2002</td>\n",
       "      <td>1.700</td>\n",
       "      <td>1.720</td>\n",
       "      <td>8</td>\n",
       "      <td>NaN</td>\n",
       "      <td>no</td>\n",
       "      <td>2507.0</td>\n",
       "      <td>alive</td>\n",
       "      <td>?</td>\n",
       "    </tr>\n",
       "    <tr>\n",
       "      <th>7872</th>\n",
       "      <td>53.0</td>\n",
       "      <td>F</td>\n",
       "      <td>1995</td>\n",
       "      <td>1.710</td>\n",
       "      <td>2.690</td>\n",
       "      <td>9</td>\n",
       "      <td>NaN</td>\n",
       "      <td>no</td>\n",
       "      <td>4982.0</td>\n",
       "      <td>alive</td>\n",
       "      <td>?</td>\n",
       "    </tr>\n",
       "    <tr>\n",
       "      <th>7873</th>\n",
       "      <td>50.0</td>\n",
       "      <td>F</td>\n",
       "      <td>1998</td>\n",
       "      <td>1.190</td>\n",
       "      <td>1.250</td>\n",
       "      <td>4</td>\n",
       "      <td>0.7</td>\n",
       "      <td>no</td>\n",
       "      <td>3995.0</td>\n",
       "      <td>alive</td>\n",
       "      <td>?</td>\n",
       "    </tr>\n",
       "  </tbody>\n",
       "</table>\n",
       "<p>7874 rows × 11 columns</p>\n",
       "</div>"
      ],
      "text/plain": [
       "       age sex sample.yr  kappa  lambda flc.grp  creatinine mgus  futime  \\\n",
       "0     97.0   F      1997  5.700   4.860      10         1.7   no    85.0   \n",
       "1     92.0   F      2000  0.870   0.683       1         0.9   no  1281.0   \n",
       "2     94.0   F      1997  4.360   3.850      10         1.4   no    69.0   \n",
       "3     92.0   F      1996  2.420   2.220       9         1.0   no   115.0   \n",
       "4     93.0   F      1996  1.320   1.690       6         1.1   no  1039.0   \n",
       "...    ...  ..       ...    ...     ...     ...         ...  ...     ...   \n",
       "7869  52.0   F      1995  1.210   1.610       6         1.0   no  4997.0   \n",
       "7870  52.0   F      1999  0.858   0.581       1         0.8   no  3652.0   \n",
       "7871  54.0   F      2002  1.700   1.720       8         NaN   no  2507.0   \n",
       "7872  53.0   F      1995  1.710   2.690       9         NaN   no  4982.0   \n",
       "7873  50.0   F      1998  1.190   1.250       4         0.7   no  3995.0   \n",
       "\n",
       "      death      chapter  \n",
       "0      dead  Circulatory  \n",
       "1      dead    Neoplasms  \n",
       "2      dead  Circulatory  \n",
       "3      dead  Circulatory  \n",
       "4      dead  Circulatory  \n",
       "...     ...          ...  \n",
       "7869  alive            ?  \n",
       "7870  alive            ?  \n",
       "7871  alive            ?  \n",
       "7872  alive            ?  \n",
       "7873  alive            ?  \n",
       "\n",
       "[7874 rows x 11 columns]"
      ]
     },
     "execution_count": 2,
     "metadata": {},
     "output_type": "execute_result"
    }
   ],
   "source": [
    "# define dataset\n",
    "\n",
    "from scipy.io import arff\n",
    "from pandas.api.types import is_string_dtype, is_numeric_dtype\n",
    "\n",
    "FLCHAIN_URL = 'https://raw.githubusercontent.com/sebp/scikit-survival/master/sksurv/datasets/data/flchain.arff'\n",
    "\n",
    "import io\n",
    "import requests\n",
    "\n",
    "data, meta = arff.loadarff(io.StringIO(requests.get(FLCHAIN_URL).content.decode('utf-8')))\n",
    "df = pd.DataFrame(data).apply(lambda x: x.str.decode('utf-8').astype('category') if is_string_dtype(x) else x)\n",
    "\n",
    "df"
   ]
  },
  {
   "cell_type": "code",
   "execution_count": 3,
   "id": "4504e999",
   "metadata": {},
   "outputs": [
    {
     "name": "stdout",
     "output_type": "stream",
     "text": [
      "(7874,) (7874,) (7874, 44)\n"
     ]
    }
   ],
   "source": [
    "t = df['futime'].values\n",
    "s = (df['death'] == 'dead').astype(float).values\n",
    "\n",
    "X = pd.get_dummies(df.drop(['futime', 'death'], axis=1))\n",
    "X = ((X - X.mean()) / X.std()).fillna(0).values\n",
    "\n",
    "print(t.shape, s.shape, X.shape)"
   ]
  },
  {
   "cell_type": "code",
   "execution_count": 4,
   "id": "adc7a987",
   "metadata": {},
   "outputs": [
    {
     "data": {
      "image/png": "[encoded data removed]",
      "text/plain": [
       "<Figure size 1152x360 with 3 Axes>"
      ]
     },
     "metadata": {
      "needs_background": "light"
     },
     "output_type": "display_data"
    }
   ],
   "source": [
    "fig, ax = plt.subplots(1, 3, figsize=(16, 5))\n",
    "ax[0].hist(t)\n",
    "ax[1].hist(t[s == 0])\n",
    "ax[2].hist(t[s == 1])\n",
    "plt.show()"
   ]
  },
  {
   "cell_type": "code",
   "execution_count": 5,
   "id": "e9aef14f",
   "metadata": {},
   "outputs": [
    {
     "name": "stdout",
     "output_type": "stream",
     "text": [
      "[0. 1. 2. 3. 4. 5. 6. 7. 8. 9.] [ 414  300  265  326  496  469  532  843 1871 2358]\n"
     ]
    }
   ],
   "source": [
    "N_FEATURES = X.shape[1]\n",
    "N_REPRESENTATION = N_FEATURES\n",
    "\n",
    "N_TIME_BUCKETS = 10\n",
    "\n",
    "t = (N_TIME_BUCKETS * t / (t.max() + 1)) // 1\n",
    "\n",
    "print(*np.unique(t, return_counts=True))"
   ]
  },
  {
   "cell_type": "code",
   "execution_count": 6,
   "id": "9924ffcc",
   "metadata": {},
   "outputs": [],
   "source": [
    "# Maximum Mean Discrepancy\n",
    "\n",
    "def gaussian_kernel(a, b):\n",
    "    dim1_1, dim1_2 = a.shape[0], b.shape[0]\n",
    "    depth = a.shape[1]\n",
    "    a = a.view(dim1_1, 1, depth)\n",
    "    b = b.view(1, dim1_2, depth)\n",
    "    a_core = a.expand(dim1_1, dim1_2, depth)\n",
    "    b_core = b.expand(dim1_1, dim1_2, depth)\n",
    "    numerator = (a_core - b_core).pow(2).mean(2)/depth\n",
    "    return torch.exp(-numerator)\n",
    "\n",
    "def MMD(a, b):\n",
    "    return gaussian_kernel(a, a).mean() + gaussian_kernel(b, b).mean() - 2*gaussian_kernel(a, b).mean()"
   ]
  },
  {
   "cell_type": "code",
   "execution_count": 7,
   "id": "09e67c5a",
   "metadata": {},
   "outputs": [],
   "source": [
    "# Negative Log Likelihood\n",
    "\n",
    "def nlpl(f, g, t, s): # negative log partial likelihood\n",
    "    F = torch.cumsum(f, 1)\n",
    "    G = torch.cumsum(g, 1)\n",
    "    ll = s * torch.gather(torch.log(f) + torch.log(G), 1, t.view(-1, 1)).squeeze()\n",
    "    ll += (1 - s) * torch.gather(torch.log(F) + torch.log(g), 1, t.view(-1, 1)).squeeze()\n",
    "    return -1 * ll"
   ]
  },
  {
   "cell_type": "code",
   "execution_count": 8,
   "id": "7a77034a",
   "metadata": {},
   "outputs": [
    {
     "name": "stdout",
     "output_type": "stream",
     "text": [
      "Using cpu device\n"
     ]
    }
   ],
   "source": [
    "# Get cpu or gpu device for training.\n",
    "device = \"cuda\" if torch.cuda.is_available() else \"cpu\"\n",
    "print(\"Using {} device\".format(device))\n",
    "\n",
    "def MLP(layer_sizes, activation_fn=nn.Sigmoid()):\n",
    "    assert len(layer_sizes) > 1\n",
    "    layers = []\n",
    "    for i, (pls, cls) in enumerate(zip(layer_sizes[:-1], layer_sizes[1:])):\n",
    "        layers.append(nn.Linear(pls, cls))\n",
    "        layers.append(activation_fn)\n",
    "    return nn.Sequential(*layers)\n",
    "\n",
    "# Define model\n",
    "class UTTE(nn.Module):\n",
    "    \n",
    "    def __init__(self):\n",
    "        super(UTTE, self).__init__()\n",
    "        self.phi_mlp = MLP([N_FEATURES, N_REPRESENTATION])\n",
    "        self.gamma_mlp = MLP([N_FEATURES, N_REPRESENTATION])\n",
    "        self.f_mlp = MLP([N_REPRESENTATION, N_TIME_BUCKETS], activation_fn=nn.Softmax(1))\n",
    "        self.g_mlp = MLP([N_REPRESENTATION, N_TIME_BUCKETS], activation_fn=nn.Softmax(1))\n",
    "\n",
    "    def forward(self, x):\n",
    "        self.phi = self.phi_mlp(x)\n",
    "        self.gamma = self.gamma_mlp(x)\n",
    "        self.f = self.f_mlp(self.phi)\n",
    "        self.g = self.g_mlp(self.gamma)\n",
    "        return self.f, self.g\n",
    "    \n",
    "    def loss(self, x, t, s, alpha=0.5):\n",
    "        self.forward(x)\n",
    "        self.mmd = MMD(self.phi[s.bool(), :], self.phi[(1 - s).bool(), :])\n",
    "        self.nll = nlpl(self.f, self.g, t, s).mean()\n",
    "        return alpha * self.nll + (1 - alpha) * self.mmd\n",
    "\n",
    "model = UTTE().to(device)"
   ]
  },
  {
   "cell_type": "code",
   "execution_count": 9,
   "id": "f4a14e5b",
   "metadata": {
    "scrolled": true
   },
   "outputs": [
    {
     "data": {
      "text/plain": [
       "tensor(1.5151, grad_fn=<AddBackward0>)"
      ]
     },
     "execution_count": 9,
     "metadata": {},
     "output_type": "execute_result"
    }
   ],
   "source": [
    "model.loss(torch.randn(100, 44), torch.randint(0, 10, (100, )), torch.randint(0, 2, (100, )), alpha=.5)"
   ]
  },
  {
   "cell_type": "code",
   "execution_count": 10,
   "id": "7701bc6c",
   "metadata": {},
   "outputs": [],
   "source": [
    "optimizer = torch.optim.Adam(model.parameters(), lr=1e-3)"
   ]
  },
  {
   "cell_type": "code",
   "execution_count": 11,
   "id": "37d620da",
   "metadata": {},
   "outputs": [],
   "source": [
    "def batch(*arrs, n=1):\n",
    "    l = len(arrs[0])\n",
    "    for ndx in range(0, l, n):\n",
    "        yield (arr[ndx:min(ndx + n, l)] for arr in arrs)"
   ]
  },
  {
   "cell_type": "code",
   "execution_count": 12,
   "id": "c9c32147",
   "metadata": {
    "scrolled": false
   },
   "outputs": [
    {
     "name": "stdout",
     "output_type": "stream",
     "text": [
      "loss: 1.862756  [    0/ 7874]\n",
      "loss: 1.783952  [    0/ 7874]\n",
      "loss: 1.572179  [    0/ 7874]\n",
      "loss: 1.357856  [    0/ 7874]\n",
      "loss: 1.188244  [    0/ 7874]\n",
      "loss: 1.092472  [    0/ 7874]\n",
      "loss: 1.049673  [    0/ 7874]\n",
      "loss: 1.031311  [    0/ 7874]\n",
      "loss: 1.021888  [    0/ 7874]\n",
      "loss: 1.015370  [    0/ 7874]\n",
      "loss: 1.009742  [    0/ 7874]\n",
      "loss: 1.004375  [    0/ 7874]\n",
      "loss: 0.999089  [    0/ 7874]\n",
      "loss: 0.993892  [    0/ 7874]\n",
      "loss: 0.988792  [    0/ 7874]\n",
      "loss: 0.983779  [    0/ 7874]\n",
      "loss: 0.978839  [    0/ 7874]\n",
      "loss: 0.973963  [    0/ 7874]\n",
      "loss: 0.969153  [    0/ 7874]\n",
      "loss: 0.964413  [    0/ 7874]\n"
     ]
    }
   ],
   "source": [
    "# TRAIN\n",
    "\n",
    "N_EPOCHS = 20\n",
    "\n",
    "for epoch_idx in range(N_EPOCHS):\n",
    "\n",
    "    for i, (batch_X, batch_t, batch_s) in enumerate(batch(X, t, s, n=100)):\n",
    "        \n",
    "        #print(batch_X.shape, batch_t.shape, batch_s.shape)\n",
    "\n",
    "        batch_X = torch.tensor(batch_X, dtype=torch.float32)\n",
    "        batch_t = torch.tensor(batch_t, dtype=torch.int64)\n",
    "        batch_s = torch.tensor(batch_s, dtype=torch.int64)\n",
    "\n",
    "        # Compute prediction error\n",
    "        loss = model.loss(batch_X, batch_t, batch_s)\n",
    "\n",
    "        # Backpropagation\n",
    "        optimizer.zero_grad()\n",
    "        loss.backward()\n",
    "        optimizer.step()\n",
    "\n",
    "        if i % 100 == 0:\n",
    "            loss, current = loss.item(), i * len(batch_X)\n",
    "            print(f\"loss: {loss:>7f}  [{current:>5d}/{len(X):>5d}]\")"
   ]
  },
  {
   "cell_type": "code",
   "execution_count": 13,
   "id": "9cf5a06c",
   "metadata": {},
   "outputs": [],
   "source": [
    "# TEST"
   ]
  },
  {
   "cell_type": "markdown",
   "id": "a594e009",
   "metadata": {},
   "source": [
    "## Discussion with Ricardo\n",
    "\n",
    "- Scale of MMD\n",
    "- Should we go back to AFT or stick with nonparametric\n",
    "- If nonparametric, evaluation metrics? -> Still need the usual ones\n",
    "- Recommended datasets"
   ]
  },
  {
   "cell_type": "markdown",
   "id": "ff943fbb",
   "metadata": {},
   "source": [
    "- optimize cross-entropy loss on multiple time scales -> this may be more relevant to the other paper\n",
    "- in other words can aggregate across multiple buckets\n",
    "----\n",
    "- discretization can be by e.g. deciles rather than uniform in time\n",
    "----\n",
    "- one way to add contrastive learning: pick other examples with event times before the current one. Can be just one additional objective -> this adds additional interest to current paper\n",
    "- just use standard objective, but enforce order with contrastive learning\n",
    "- for each example, select another example where the event happens in the bucket before; for every observation, pick someone in the bucket (a) before, and (b) after"
   ]
  },
  {
   "cell_type": "markdown",
   "id": "ba3cc54b",
   "metadata": {},
   "source": [
    "- if the censoring part works -- and should be easy to implement -- we might be able to connect it to the way people usually do it for informative censoring"
   ]
  },
  {
   "cell_type": "code",
   "execution_count": null,
   "id": "45816b35",
   "metadata": {},
   "outputs": [],
   "source": []
  }
 ],
 "metadata": {
  "kernelspec": {
   "display_name": "Python 3",
   "language": "python",
   "name": "python3"
  },
  "language_info": {
   "codemirror_mode": {
    "name": "ipython",
    "version": 3
   },
   "file_extension": ".py",
   "mimetype": "text/x-python",
   "name": "python",
   "nbconvert_exporter": "python",
   "pygments_lexer": "ipython3",
   "version": "3.9.2"
  }
 },
 "nbformat": 4,
 "nbformat_minor": 5
}
